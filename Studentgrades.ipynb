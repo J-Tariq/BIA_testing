{
 "cells": [
  {
   "cell_type": "markdown",
   "id": "d0e5d42d",
   "metadata": {},
   "source": [
    "## Student Grades Data"
   ]
  },
  {
   "cell_type": "code",
   "execution_count": null,
   "id": "4e0db880",
   "metadata": {},
   "outputs": [],
   "source": [
    "import pandas as pd\n",
    "\n",
    "data = {\n",
    "    'Student Name': ['Alice Smith', 'Bob Johnson', 'Charlie Lee', 'David Brown', 'Eva Green'],\n",
    "    'Subject': ['Math', 'Science', 'History', 'Math', 'Science'],\n",
    "    'Grade': ['A', 'B+', 'A-', 'B', 'A']\n",
    "}\n",
    "\n",
    "df = pd.DataFrame(data)\n",
    "df"
   ]
  }
 ],
 "metadata": {},
 "nbformat": 4,
 "nbformat_minor": 5
}
